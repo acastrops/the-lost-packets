{
 "cells": [
  {
   "cell_type": "markdown",
   "metadata": {},
   "source": [
    "### Arima modeling of a day of packets\n",
    "\n",
    "Packets dropped that were coming from a destination in China were put into 10 minutes intervals and displayed as follows. \n",
    "\n",
    "First, we'll do a little cleaning."
   ]
  },
  {
   "cell_type": "code",
   "execution_count": 22,
   "metadata": {},
   "outputs": [],
   "source": [
    "import csv\n",
    "\n",
    "with open('../data/one_day.csv') as csvfile:\n",
    "    reader = csv.reader(csvfile, delimiter=',')\n",
    "    cleaned = []\n",
    "    next(reader)\n",
    "    for row in reader:\n",
    "        timestamp = row[0]\n",
    "        count = row[3]\n",
    "        timestamp = timestamp.replace(\"(\", \"\")\n",
    "        cleaned.append([timestamp, count])\n",
    "\n",
    "with open('../data/one_day_cleaned.csv', 'w') as csvfile:\n",
    "    writer = csv.writer(csvfile, delimiter=',')\n",
    "    writer.writerow(['timestamp', 'dropped'])\n",
    "    for row in cleaned:\n",
    "        writer.writerow(row)"
   ]
  },
  {
   "cell_type": "code",
   "execution_count": 23,
   "metadata": {},
   "outputs": [],
   "source": [
    "df = pd.read_csv('../data/one_day_cleaned.csv')\n",
    "df['timestamp'] = pd.to_datetime(df['timestamp'],unit='s')\n",
    "df = df.sort_values(by='timestamp')\n",
    "df.index = pd.to_datetime(df.timestamp)\n",
    "df.drop(['timestamp'], axis=1, inplace=True)"
   ]
  },
  {
   "cell_type": "code",
   "execution_count": null,
   "metadata": {},
   "outputs": [],
   "source": []
  },
  {
   "cell_type": "code",
   "execution_count": null,
   "metadata": {},
   "outputs": [],
   "source": []
  }
 ],
 "metadata": {
  "kernelspec": {
   "display_name": "Python 3",
   "language": "python",
   "name": "python3"
  },
  "language_info": {
   "codemirror_mode": {
    "name": "ipython",
    "version": 3
   },
   "file_extension": ".py",
   "mimetype": "text/x-python",
   "name": "python",
   "nbconvert_exporter": "python",
   "pygments_lexer": "ipython3",
   "version": "3.7.0"
  }
 },
 "nbformat": 4,
 "nbformat_minor": 2
}
