{
 "cells": [
  {
   "cell_type": "markdown",
   "metadata": {},
   "source": [
    "### SARIMAX modeling of a month with EDA\n",
    "\n",
    "##### Shane Caldwell\n",
    "\n",
    "Oh, July. The hottest of all months. Perfect for spending time on the internet doing crime. \n",
    "\n",
    "Packets dropped that were coming from a destination in China were put into 10 minutes intervals and displayed as follows. "
   ]
  },
  {
   "cell_type": "code",
   "execution_count": 1,
   "metadata": {},
   "outputs": [],
   "source": [
    "import pandas as pd"
   ]
  },
  {
   "cell_type": "code",
   "execution_count": 2,
   "metadata": {},
   "outputs": [],
   "source": [
    "col_names = ['timestamp', 'dropped', 'num_darknet', 'total_len', 'num_tcp', 'num_udp', 'num_other', 'extra']\n",
    "\n",
    "df = pd.read_csv('../data/full_month.csv', header = None, names = col_names)\n",
    "df['timestamp'] = pd.to_datetime(df['timestamp'],unit='s')\n",
    "df = df.sort_values(by='timestamp')\n",
    "df.timestamp = pd.to_datetime(df.timestamp)"
   ]
  },
  {
   "cell_type": "markdown",
   "metadata": {},
   "source": [
    "Next, we join the two additional jobs we did for the number of unique regions and number of unique destination ports with timestamp as the key to join."
   ]
  },
  {
   "cell_type": "code",
   "execution_count": 3,
   "metadata": {},
   "outputs": [],
   "source": [
    "col_names = ['timestamp', 'num_unique_regions']\n",
    "unique_regions = pd.read_csv('../data/num_unique_Akamai_regions_full_month_unsorted.csv', header = None, names = col_names)\n",
    "\n",
    "unique_regions['timestamp'] = pd.to_datetime(unique_regions['timestamp'],unit='s')\n",
    "unique_regions = unique_regions.sort_values(by='timestamp')\n",
    "unique_regions.timestamp = pd.to_datetime(unique_regions.timestamp)\n",
    "\n",
    "col_names =['timestamp', 'num_unique_dst_ports']\n",
    "\n",
    "unique_dest_ports = pd.read_csv('../data/num_unique_dest_ports_full_month_unsorted.csv', header = None, names = col_names)\n",
    "unique_dest_ports['timestamp'] = pd.to_datetime(unique_dest_ports['timestamp'], unit='s')\n",
    "unique_dest_ports = unique_dest_ports.sort_values(by='timestamp')\n",
    "unique_dest_ports.timestamp = pd.to_datetime(unique_dest_ports.timestamp)"
   ]
  },
  {
   "cell_type": "code",
   "execution_count": 4,
   "metadata": {},
   "outputs": [],
   "source": [
    "####mad joins on df, unique_regions, unique_dest_ports\n",
    "df2 = pd.merge(df, unique_regions, on = 'timestamp')\n",
    "akamai = pd.merge(df2, unique_dest_ports, on = 'timestamp')\n",
    "akamai.drop(columns='extra', inplace=True)"
   ]
  },
  {
   "cell_type": "markdown",
   "metadata": {},
   "source": [
    "The timestamps arrive as a unixstamp, which is the 'current unix timestamp'. This is the raw number of seconds Jan 01 1970 (the beginning of the epoch). It's in UTC, or \"coordinated universal time\". \n",
    "\n",
    "UTC is great for computers, but we'd like to be able to look at this from the perspective of China, so let's shift the timestamp to China time!\n",
    "\n",
    "In most other countries, this would be impossible. China is big - and has several timezones. Right? WRONG. \n",
    "\n",
    "China is geographically large enough for 5 timezones, but they all operate off of \"China Standard Time\" which is Beijing time. The communist party put this forward in 1949 for the purpose of national unity. It's 8 hours ahead of UTC. \n",
    "\n",
    "Quora suggests the workweek is essentially the same as in the US, so 9-6 or so is standard.\n",
    "https://www.quora.com/What-is-the-normal-work-week-in-China-Do-the-Chinese-then-party-down-on-Friday-Saturday-night"
   ]
  },
  {
   "cell_type": "code",
   "execution_count": 5,
   "metadata": {},
   "outputs": [],
   "source": [
    "from dateutil import tz\n",
    "from datetime import datetime\n",
    "\n",
    "def convert_to_chinatime(x):\n",
    "    from_zone = tz.gettz('UTC')\n",
    "    to_zone = tz.gettz('Asia/Shanghai')\n",
    "    x = x.replace(tzinfo=from_zone)\n",
    "    china = x.astimezone(to_zone)\n",
    "    return china\n",
    "\n",
    "akamai.timestamp = akamai.timestamp.apply(convert_to_chinatime)\n",
    "akamai['day_of_week'] = akamai['timestamp'].apply(lambda row: row.weekday())\n",
    "akamai.index= pd.to_datetime(akamai.timestamp)\n",
    "akamai.drop(['timestamp'], axis=1, inplace=True)"
   ]
  },
  {
   "cell_type": "markdown",
   "metadata": {},
   "source": [
    "What does that look like? "
   ]
  },
  {
   "cell_type": "code",
   "execution_count": 6,
   "metadata": {},
   "outputs": [
    {
     "data": {
      "text/plain": [
       "<Figure size 1000x500 with 1 Axes>"
      ]
     },
     "metadata": {},
     "output_type": "display_data"
    },
    {
     "data": {
      "text/plain": [
       "'\\nMake it a time series plot\\n\\nlog scale should help. and in think length is currently in bytes, so we could convert it to MB or GB\\n\\nKevin suggested scaling everything between 0 and 1\\n'"
      ]
     },
     "execution_count": 6,
     "metadata": {},
     "output_type": "execute_result"
    }
   ],
   "source": [
    "#import seaborn as sns\n",
    "import matplotlib.pyplot as plt\n",
    "plt.rcParams['figure.figsize'] = [10, 5] # figures are too small in these notebooks\n",
    "\n",
    "\n",
    "fig, ax = plt.subplots()\n",
    "ax = akamai.plot(ax = ax)\n",
    "#plt.xticks(xi, df.index)\n",
    "ax.xaxis.set_major_locator(plt.MaxNLocator(24))\n",
    "plt.show()\n",
    "\n",
    "\"\"\"\n",
    "Make it a time series plot\n",
    "\n",
    "log scale should help. and in think length is currently in bytes, so we could convert it to MB or GB\n",
    "\n",
    "Kevin suggested scaling everything between 0 and 1\n",
    "\"\"\""
   ]
  },
  {
   "cell_type": "markdown",
   "metadata": {},
   "source": [
    "Now that we're looking on the day level, this doesn't help us very much. It would be better if we could color the graph by day of the week, or at least weekday vs weekend. \n",
    "\n",
    "I need to convert these timestamps to get days of the week, then we can use that to make is_weekend features. "
   ]
  },
  {
   "cell_type": "markdown",
   "metadata": {},
   "source": [
    "\n",
    "Is the data stationary? It doesn't necessarily look like it, but let's use the Augmented Dickey-Fuller test to confirm. "
   ]
  },
  {
   "cell_type": "code",
   "execution_count": 7,
   "metadata": {},
   "outputs": [
    {
     "name": "stdout",
     "output_type": "stream",
     "text": [
      "---------- Augmented Dickey-Fuller(pre-difference) ---------\n",
      "ADF Statistic: -13.412669\n",
      "p-value: 0.000000\n",
      "Critical Values:\n",
      "\t1%: -3.430\n",
      "\t5%: -2.862\n",
      "\t10%: -2.567\n",
      "--------------------------------------------\n"
     ]
    }
   ],
   "source": [
    "from statsmodels.tsa.stattools import adfuller\n",
    "import statsmodels.api as sm\n",
    "dropped = akamai['dropped']\n",
    "print('---------- Augmented Dickey-Fuller(pre-difference) ---------')\n",
    "result = adfuller(dropped)\n",
    "print('ADF Statistic: %f' % result[0])\n",
    "print('p-value: %f' % result[1])\n",
    "print('Critical Values:')\n",
    "for key, value in result[4].items():\n",
    "\tprint('\\t%s: %.3f' % (key, value))\n",
    "print('--------------------------------------------')"
   ]
  },
  {
   "cell_type": "markdown",
   "metadata": {},
   "source": [
    "We run the Augmented Dickey-Fuller test and fail to reject the null hypothesis that the time series has a unit root. This means it is non-stationary. Let's take the difference and see what that looks like. "
   ]
  },
  {
   "cell_type": "code",
   "execution_count": 9,
   "metadata": {},
   "outputs": [
    {
     "data": {
      "image/png": "[encoded data removed]",
      "text/plain": [
       "<Figure size 1080x288 with 2 Axes>"
      ]
     },
     "metadata": {
      "needs_background": "light"
     },
     "output_type": "display_data"
    }
   ],
   "source": [
    "### Take log\n",
    "import numpy as np\n",
    "import matplotlib.pyplot as plt\n",
    "\n",
    "akamai['ln_dropped'] = np.log(akamai['dropped'])\n",
    "\n",
    "# Graph data\n",
    "fig, axes = plt.subplots(1, 2, figsize=(15,4))\n",
    "# Levels\n",
    "axes[0].plot(akamai.index._mpl_repr(), akamai['dropped'], '-')\n",
    "axes[0].set(title='Dropped packets over a day')\n",
    "# Log difference\n",
    "axes[1].plot(akamai.index._mpl_repr(), akamai['ln_dropped'], '-')\n",
    "axes[1].set(title='Log of dropped packets over a month');\n",
    "plt.show()"
   ]
  }
 ],
 "metadata": {
  "kernelspec": {
   "display_name": "Python 3",
   "language": "python",
   "name": "python3"
  },
  "language_info": {
   "codemirror_mode": {
    "name": "ipython",
    "version": 3
   },
   "file_extension": ".py",
   "mimetype": "text/x-python",
   "name": "python",
   "nbconvert_exporter": "python",
   "pygments_lexer": "ipython3",
   "version": "3.7.0"
  }
 },
 "nbformat": 4,
 "nbformat_minor": 2
}
