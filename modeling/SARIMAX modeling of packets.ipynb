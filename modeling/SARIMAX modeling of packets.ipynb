{
 "cells": [
  {
   "cell_type": "markdown",
   "metadata": {},
   "source": [
    "### SARIMAX modeling of a month with EDA\n",
    "\n",
    "##### Shane Caldwell\n",
    "\n",
    "Oh, July. The hottest of all months. Perfect for spending time on the internet doing crime. \n",
    "\n",
    "Packets dropped that were coming from a destination in China were put into 10 minutes intervals and displayed as follows. "
   ]
  },
  {
   "cell_type": "code",
   "execution_count": 3,
   "metadata": {},
   "outputs": [],
   "source": [
    "import pandas as pd"
   ]
  },
  {
   "cell_type": "code",
   "execution_count": 4,
   "metadata": {},
   "outputs": [],
   "source": [
    "col_names = ['timestamp', 'dropped', 'num_darknet', 'total_len', 'num_tcp', 'num_udp', 'num_other', 'extra']\n",
    "\n",
    "df = pd.read_csv('../data/full_month.csv', header = None, names = col_names)\n",
    "df['timestamp'] = pd.to_datetime(df['timestamp'],unit='s')\n",
    "df = df.sort_values(by='timestamp')\n",
    "df.timestamp = pd.to_datetime(df.timestamp)"
   ]
  },
  {
   "cell_type": "markdown",
   "metadata": {},
   "source": [
    "Next, we join the two additional jobs we did for the number of unique regions and number of unique destination ports with timestamp as the key to join."
   ]
  },
  {
   "cell_type": "code",
   "execution_count": 5,
   "metadata": {
    "scrolled": true
   },
   "outputs": [],
   "source": [
    "col_names = ['timestamp', 'num_unique_regions']\n",
    "unique_regions = pd.read_csv('../data/num_unique_Akamai_regions_full_month_unsorted.csv', header = None, names = col_names)\n",
    "\n",
    "unique_regions['timestamp'] = pd.to_datetime(unique_regions['timestamp'],unit='s')\n",
    "unique_regions = unique_regions.sort_values(by='timestamp')\n",
    "unique_regions.timestamp = pd.to_datetime(unique_regions.timestamp)\n",
    "\n",
    "col_names =['timestamp', 'num_unique_dst_ports']\n",
    "\n",
    "unique_dest_ports = pd.read_csv('../data/num_unique_dest_ports_full_month_unsorted.csv', header = None, names = col_names)\n",
    "unique_dest_ports['timestamp'] = pd.to_datetime(unique_dest_ports['timestamp'], unit='s')\n",
    "unique_dest_ports = unique_dest_ports.sort_values(by='timestamp')\n",
    "unique_dest_ports.timestamp = pd.to_datetime(unique_dest_ports.timestamp)"
   ]
  },
  {
   "cell_type": "code",
   "execution_count": 6,
   "metadata": {},
   "outputs": [],
   "source": [
    "####mad joins on df, unique_regions, unique_dest_ports\n",
    "df2 = pd.merge(df, unique_regions, on = 'timestamp')\n",
    "akamai = pd.merge(df2, unique_dest_ports, on = 'timestamp')\n",
    "akamai.drop(columns='extra', inplace=True)"
   ]
  },
  {
   "cell_type": "markdown",
   "metadata": {},
   "source": [
    "The timestamps arrive as a unixstamp, which is the 'current unix timestamp'. This is the raw number of seconds Jan 01 1970 (the beginning of the epoch). It's in UTC, or \"coordinated universal time\". \n",
    "\n",
    "UTC is great for computers, but we'd like to be able to look at this from the perspective of China, so let's shift the timestamp to China time!\n",
    "\n",
    "In most other countries, this would be impossible. China is big - and has several timezones. Right? WRONG. \n",
    "\n",
    "China is geographically large enough for 5 timezones, but they all operate off of \"China Standard Time\" which is Beijing time. The communist party put this forward in 1949 for the purpose of national unity. It's 8 hours ahead of UTC. \n",
    "\n",
    "Quora suggests the workweek is essentially the same as in the US, so 9-6 or so is standard.\n",
    "https://www.quora.com/What-is-the-normal-work-week-in-China-Do-the-Chinese-then-party-down-on-Friday-Saturday-night"
   ]
  },
  {
   "cell_type": "code",
   "execution_count": 7,
   "metadata": {},
   "outputs": [],
   "source": [
    "from dateutil import tz\n",
    "from datetime import datetime\n",
    "\n",
    "def convert_to_chinatime(x):\n",
    "    from_zone = tz.gettz('UTC')\n",
    "    to_zone = tz.gettz('Asia/Shanghai')\n",
    "    x = x.replace(tzinfo=from_zone)\n",
    "    china = x.astimezone(to_zone)\n",
    "    return china\n",
    "\n",
    "akamai.timestamp = akamai.timestamp.apply(convert_to_chinatime)\n",
    "akamai['day_of_week'] = akamai['timestamp'].apply(lambda row: row.weekday())\n",
    "akamai.index= pd.to_datetime(akamai.timestamp)\n",
    "akamai.drop(['timestamp'], axis=1, inplace=True)"
   ]
  },
  {
   "cell_type": "markdown",
   "metadata": {},
   "source": [
    "What does that look like? "
   ]
  },
  {
   "cell_type": "code",
   "execution_count": 8,
   "metadata": {},
   "outputs": [
    {
     "data": {
      "text/plain": [
       "<Figure size 1000x500 with 1 Axes>"
      ]
     },
     "metadata": {},
     "output_type": "display_data"
    },
    {
     "data": {
      "text/plain": [
       "'\\nMake it a time series plot\\n\\nlog scale should help. and in think length is currently in bytes, so we could convert it to MB or GB\\n\\nKevin suggested scaling everything between 0 and 1\\n'"
      ]
     },
     "execution_count": 8,
     "metadata": {},
     "output_type": "execute_result"
    }
   ],
   "source": [
    "#import seaborn as sns\n",
    "import matplotlib.pyplot as plt\n",
    "plt.rcParams['figure.figsize'] = [10, 5] # figures are too small in these notebooks\n",
    "\n",
    "\n",
    "fig, ax = plt.subplots()\n",
    "ax = akamai.plot(ax = ax)\n",
    "#plt.xticks(xi, df.index)\n",
    "ax.xaxis.set_major_locator(plt.MaxNLocator(24))\n",
    "plt.show()\n",
    "\n",
    "\"\"\"\n",
    "Make it a time series plot\n",
    "\n",
    "log scale should help. and in think length is currently in bytes, so we could convert it to MB or GB\n",
    "\n",
    "Kevin suggested scaling everything between 0 and 1\n",
    "\"\"\""
   ]
  },
  {
   "cell_type": "markdown",
   "metadata": {},
   "source": [
    "Now that we're looking on the day level, this doesn't help us very much. It would be better if we could color the graph by day of the week, or at least weekday vs weekend. \n",
    "\n",
    "I need to convert these timestamps to get days of the week, then we can use that to make is_weekend features. "
   ]
  },
  {
   "cell_type": "markdown",
   "metadata": {},
   "source": [
    "\n",
    "Is the data stationary? It doesn't necessarily look like it, but let's use the Augmented Dickey-Fuller test to confirm. "
   ]
  },
  {
   "cell_type": "code",
   "execution_count": 9,
   "metadata": {},
   "outputs": [
    {
     "name": "stdout",
     "output_type": "stream",
     "text": [
      "---------- Augmented Dickey-Fuller(pre-difference) ---------\n",
      "ADF Statistic: -13.412669\n",
      "p-value: 0.000000\n",
      "Critical Values:\n",
      "\t1%: -3.430\n",
      "\t5%: -2.862\n",
      "\t10%: -2.567\n",
      "--------------------------------------------\n"
     ]
    }
   ],
   "source": [
    "from statsmodels.tsa.stattools import adfuller\n",
    "import statsmodels.api as sm\n",
    "dropped = akamai['dropped']\n",
    "print('---------- Augmented Dickey-Fuller(pre-difference) ---------')\n",
    "result = adfuller(dropped)\n",
    "print('ADF Statistic: %f' % result[0])\n",
    "print('p-value: %f' % result[1])\n",
    "print('Critical Values:')\n",
    "for key, value in result[4].items():\n",
    "\tprint('\\t%s: %.3f' % (key, value))\n",
    "print('--------------------------------------------')"
   ]
  },
  {
   "cell_type": "markdown",
   "metadata": {},
   "source": [
    "We run the Augmented Dickey-Fuller test and fail to reject the null hypothesis that the time series has a unit root. This means it is non-stationary. Let's take the difference and see what that looks like. "
   ]
  },
  {
   "cell_type": "code",
   "execution_count": 10,
   "metadata": {},
   "outputs": [
    {
     "data": {
      "image/png": "[encoded data removed]",
      "text/plain": [
       "<Figure size 1080x288 with 2 Axes>"
      ]
     },
     "metadata": {},
     "output_type": "display_data"
    }
   ],
   "source": [
    "### Take log\n",
    "import numpy as np\n",
    "import matplotlib.pyplot as plt\n",
    "\n",
    "akamai['ln_dropped'] = np.log(akamai['dropped'])\n",
    "\n",
    "# Graph data\n",
    "fig, axes = plt.subplots(1, 2, figsize=(15,4))\n",
    "# Levels\n",
    "axes[0].plot(akamai.index._mpl_repr(), akamai['dropped'], '-', color='mediumseagreen')\n",
    "axes[0].set(title='Dropped packets over a day')\n",
    "# Log difference\n",
    "axes[1].plot(akamai.index._mpl_repr(), akamai['ln_dropped'], '-', color='mediumseagreen')\n",
    "axes[1].set(title='Log of dropped packets over a month');\n",
    "plt.show()"
   ]
  },
  {
   "cell_type": "code",
   "execution_count": 11,
   "metadata": {},
   "outputs": [
    {
     "data": {
      "image/png": "[encoded data removed]",
      "text/plain": [
       "<Figure size 432x288 with 1 Axes>"
      ]
     },
     "metadata": {},
     "output_type": "display_data"
    }
   ],
   "source": [
    "#Increasing label size and image size\n",
    "#plt.rcParams.update({'font.size': 22})\n",
    "#plt.figure(figsize = (24,16))\n",
    "\n",
    "#Plotting \n",
    "sm.graphics.tsa.plot_acf(akamai.iloc[1:]['dropped'], lags=10000, ax=plt.gca(), title=\"Autocorrelation Plot\", color='mediumseagreen')\n",
    "\n",
    "xcoords = [1440, 2880, 4320, 5760, 7200, 8640]\n",
    "for xc in xcoords:\n",
    "    plt.axvline(x=xc)\n",
    "\n",
    "plt.savefig('acf_plot.png')"
   ]
  },
  {
   "cell_type": "code",
   "execution_count": 12,
   "metadata": {},
   "outputs": [
    {
     "data": {
      "image/png": "[encoded data removed]",
      "text/plain": [
       "<Figure size 432x288 with 1 Axes>"
      ]
     },
     "metadata": {},
     "output_type": "display_data"
    }
   ],
   "source": [
    "#plt.rcParams.update({'font.size': 22})\n",
    "#plt.figure(figsize = (24,16))\n",
    "sm.graphics.tsa.plot_pacf(akamai.iloc[1:]['dropped'], lags=40, ax=plt.gca(), color='mediumseagreen')\n",
    "    \n",
    "plt.savefig('pacf_plot.png')"
   ]
  },
  {
   "cell_type": "code",
   "execution_count": 13,
   "metadata": {},
   "outputs": [
    {
     "data": {
      "image/png": "[encoded data removed]",
      "text/plain": [
       "<Figure size 432x288 with 1 Axes>"
      ]
     },
     "metadata": {},
     "output_type": "display_data"
    }
   ],
   "source": [
    "#plt.rcParams.update({'font.size': 22})\n",
    "#plt.figure(figsize = (24,16))\n",
    "sm.graphics.tsa.plot_pacf(akamai.iloc[1:]['dropped'], lags=100, ax=plt.gca(), color='mediumseagreen')\n",
    "    \n",
    "plt.savefig('pacf_plot2.png')"
   ]
  },
  {
   "cell_type": "code",
   "execution_count": 14,
   "metadata": {},
   "outputs": [
    {
     "ename": "KeyboardInterrupt",
     "evalue": "",
     "output_type": "error",
     "traceback": [
      "\u001b[1;31m---------------------------------------------------------------------------\u001b[0m",
      "\u001b[1;31mKeyboardInterrupt\u001b[0m                         Traceback (most recent call last)",
      "\u001b[1;32m<ipython-input-14-78253427b132>\u001b[0m in \u001b[0;36m<module>\u001b[1;34m()\u001b[0m\n\u001b[0;32m      1\u001b[0m \u001b[1;31m# Graph data\u001b[0m\u001b[1;33m\u001b[0m\u001b[1;33m\u001b[0m\u001b[0m\n\u001b[0;32m      2\u001b[0m \u001b[0mfig\u001b[0m\u001b[1;33m,\u001b[0m \u001b[0maxes\u001b[0m \u001b[1;33m=\u001b[0m \u001b[0mplt\u001b[0m\u001b[1;33m.\u001b[0m\u001b[0msubplots\u001b[0m\u001b[1;33m(\u001b[0m\u001b[1;36m1\u001b[0m\u001b[1;33m,\u001b[0m \u001b[1;36m2\u001b[0m\u001b[1;33m,\u001b[0m \u001b[0mfigsize\u001b[0m\u001b[1;33m=\u001b[0m\u001b[1;33m(\u001b[0m\u001b[1;36m15\u001b[0m\u001b[1;33m,\u001b[0m\u001b[1;36m4\u001b[0m\u001b[1;33m)\u001b[0m\u001b[1;33m)\u001b[0m\u001b[1;33m\u001b[0m\u001b[0m\n\u001b[1;32m----> 3\u001b[1;33m \u001b[0mfig\u001b[0m \u001b[1;33m=\u001b[0m \u001b[0msm\u001b[0m\u001b[1;33m.\u001b[0m\u001b[0mgraphics\u001b[0m\u001b[1;33m.\u001b[0m\u001b[0mtsa\u001b[0m\u001b[1;33m.\u001b[0m\u001b[0mplot_pacf\u001b[0m\u001b[1;33m(\u001b[0m\u001b[0makamai\u001b[0m\u001b[1;33m.\u001b[0m\u001b[0miloc\u001b[0m\u001b[1;33m[\u001b[0m\u001b[1;36m1\u001b[0m\u001b[1;33m:\u001b[0m\u001b[1;33m]\u001b[0m\u001b[1;33m[\u001b[0m\u001b[1;34m'dropped'\u001b[0m\u001b[1;33m]\u001b[0m\u001b[1;33m,\u001b[0m \u001b[0mlags\u001b[0m\u001b[1;33m=\u001b[0m\u001b[1;36m10000\u001b[0m\u001b[1;33m,\u001b[0m \u001b[0max\u001b[0m\u001b[1;33m=\u001b[0m\u001b[0maxes\u001b[0m\u001b[1;33m[\u001b[0m\u001b[1;36m1\u001b[0m\u001b[1;33m]\u001b[0m\u001b[1;33m)\u001b[0m\u001b[1;33m\u001b[0m\u001b[0m\n\u001b[0m\u001b[0;32m      4\u001b[0m \u001b[0mfig\u001b[0m \u001b[1;33m=\u001b[0m \u001b[0msm\u001b[0m\u001b[1;33m.\u001b[0m\u001b[0mgraphics\u001b[0m\u001b[1;33m.\u001b[0m\u001b[0mtsa\u001b[0m\u001b[1;33m.\u001b[0m\u001b[0mplot_acf\u001b[0m\u001b[1;33m(\u001b[0m\u001b[0makamai\u001b[0m\u001b[1;33m.\u001b[0m\u001b[0miloc\u001b[0m\u001b[1;33m[\u001b[0m\u001b[1;36m1\u001b[0m\u001b[1;33m:\u001b[0m\u001b[1;33m]\u001b[0m\u001b[1;33m[\u001b[0m\u001b[1;34m'dropped'\u001b[0m\u001b[1;33m]\u001b[0m\u001b[1;33m,\u001b[0m \u001b[0mlags\u001b[0m\u001b[1;33m=\u001b[0m\u001b[1;36m60\u001b[0m\u001b[1;33m,\u001b[0m \u001b[0max\u001b[0m\u001b[1;33m=\u001b[0m\u001b[0maxes\u001b[0m\u001b[1;33m[\u001b[0m\u001b[1;36m1\u001b[0m\u001b[1;33m]\u001b[0m\u001b[1;33m)\u001b[0m\u001b[1;33m\u001b[0m\u001b[0m\n",
      "\u001b[1;32mc:\\users\\user\\appdata\\local\\programs\\python\\python36\\lib\\site-packages\\statsmodels\\graphics\\tsaplots.py\u001b[0m in \u001b[0;36mplot_pacf\u001b[1;34m(x, ax, lags, alpha, method, use_vlines, title, zero, vlines_kwargs, **kwargs)\u001b[0m\n\u001b[0;32m    221\u001b[0m         \u001b[0macf_x\u001b[0m \u001b[1;33m=\u001b[0m \u001b[0mpacf\u001b[0m\u001b[1;33m(\u001b[0m\u001b[0mx\u001b[0m\u001b[1;33m,\u001b[0m \u001b[0mnlags\u001b[0m\u001b[1;33m=\u001b[0m\u001b[0mnlags\u001b[0m\u001b[1;33m,\u001b[0m \u001b[0malpha\u001b[0m\u001b[1;33m=\u001b[0m\u001b[0malpha\u001b[0m\u001b[1;33m,\u001b[0m \u001b[0mmethod\u001b[0m\u001b[1;33m=\u001b[0m\u001b[0mmethod\u001b[0m\u001b[1;33m)\u001b[0m\u001b[1;33m\u001b[0m\u001b[0m\n\u001b[0;32m    222\u001b[0m     \u001b[1;32melse\u001b[0m\u001b[1;33m:\u001b[0m\u001b[1;33m\u001b[0m\u001b[0m\n\u001b[1;32m--> 223\u001b[1;33m         \u001b[0macf_x\u001b[0m\u001b[1;33m,\u001b[0m \u001b[0mconfint\u001b[0m \u001b[1;33m=\u001b[0m \u001b[0mpacf\u001b[0m\u001b[1;33m(\u001b[0m\u001b[0mx\u001b[0m\u001b[1;33m,\u001b[0m \u001b[0mnlags\u001b[0m\u001b[1;33m=\u001b[0m\u001b[0mnlags\u001b[0m\u001b[1;33m,\u001b[0m \u001b[0malpha\u001b[0m\u001b[1;33m=\u001b[0m\u001b[0malpha\u001b[0m\u001b[1;33m,\u001b[0m \u001b[0mmethod\u001b[0m\u001b[1;33m=\u001b[0m\u001b[0mmethod\u001b[0m\u001b[1;33m)\u001b[0m\u001b[1;33m\u001b[0m\u001b[0m\n\u001b[0m\u001b[0;32m    224\u001b[0m \u001b[1;33m\u001b[0m\u001b[0m\n\u001b[0;32m    225\u001b[0m     _plot_corr(ax, title, acf_x, confint, lags, irregular, use_vlines,\n",
      "\u001b[1;32mc:\\users\\user\\appdata\\local\\programs\\python\\python36\\lib\\site-packages\\statsmodels\\tsa\\stattools.py\u001b[0m in \u001b[0;36mpacf\u001b[1;34m(x, nlags, method, alpha)\u001b[0m\n\u001b[0;32m    599\u001b[0m         \u001b[0mret\u001b[0m \u001b[1;33m=\u001b[0m \u001b[0mpacf_ols\u001b[0m\u001b[1;33m(\u001b[0m\u001b[0mx\u001b[0m\u001b[1;33m,\u001b[0m \u001b[0mnlags\u001b[0m\u001b[1;33m=\u001b[0m\u001b[0mnlags\u001b[0m\u001b[1;33m)\u001b[0m\u001b[1;33m\u001b[0m\u001b[0m\n\u001b[0;32m    600\u001b[0m     \u001b[1;32melif\u001b[0m \u001b[0mmethod\u001b[0m \u001b[1;32min\u001b[0m \u001b[1;33m[\u001b[0m\u001b[1;34m'yw'\u001b[0m\u001b[1;33m,\u001b[0m \u001b[1;34m'ywu'\u001b[0m\u001b[1;33m,\u001b[0m \u001b[1;34m'ywunbiased'\u001b[0m\u001b[1;33m,\u001b[0m \u001b[1;34m'yw_unbiased'\u001b[0m\u001b[1;33m]\u001b[0m\u001b[1;33m:\u001b[0m\u001b[1;33m\u001b[0m\u001b[0m\n\u001b[1;32m--> 601\u001b[1;33m         \u001b[0mret\u001b[0m \u001b[1;33m=\u001b[0m \u001b[0mpacf_yw\u001b[0m\u001b[1;33m(\u001b[0m\u001b[0mx\u001b[0m\u001b[1;33m,\u001b[0m \u001b[0mnlags\u001b[0m\u001b[1;33m=\u001b[0m\u001b[0mnlags\u001b[0m\u001b[1;33m,\u001b[0m \u001b[0mmethod\u001b[0m\u001b[1;33m=\u001b[0m\u001b[1;34m'unbiased'\u001b[0m\u001b[1;33m)\u001b[0m\u001b[1;33m\u001b[0m\u001b[0m\n\u001b[0m\u001b[0;32m    602\u001b[0m     \u001b[1;32melif\u001b[0m \u001b[0mmethod\u001b[0m \u001b[1;32min\u001b[0m \u001b[1;33m[\u001b[0m\u001b[1;34m'ywm'\u001b[0m\u001b[1;33m,\u001b[0m \u001b[1;34m'ywmle'\u001b[0m\u001b[1;33m,\u001b[0m \u001b[1;34m'yw_mle'\u001b[0m\u001b[1;33m]\u001b[0m\u001b[1;33m:\u001b[0m\u001b[1;33m\u001b[0m\u001b[0m\n\u001b[0;32m    603\u001b[0m         \u001b[0mret\u001b[0m \u001b[1;33m=\u001b[0m \u001b[0mpacf_yw\u001b[0m\u001b[1;33m(\u001b[0m\u001b[0mx\u001b[0m\u001b[1;33m,\u001b[0m \u001b[0mnlags\u001b[0m\u001b[1;33m=\u001b[0m\u001b[0mnlags\u001b[0m\u001b[1;33m,\u001b[0m \u001b[0mmethod\u001b[0m\u001b[1;33m=\u001b[0m\u001b[1;34m'mle'\u001b[0m\u001b[1;33m)\u001b[0m\u001b[1;33m\u001b[0m\u001b[0m\n",
      "\u001b[1;32mc:\\users\\user\\appdata\\local\\programs\\python\\python36\\lib\\site-packages\\statsmodels\\tsa\\stattools.py\u001b[0m in \u001b[0;36mpacf_yw\u001b[1;34m(x, nlags, method)\u001b[0m\n\u001b[0;32m    518\u001b[0m     \u001b[0mpacf\u001b[0m \u001b[1;33m=\u001b[0m \u001b[1;33m[\u001b[0m\u001b[1;36m1.\u001b[0m\u001b[1;33m]\u001b[0m\u001b[1;33m\u001b[0m\u001b[0m\n\u001b[0;32m    519\u001b[0m     \u001b[1;32mfor\u001b[0m \u001b[0mk\u001b[0m \u001b[1;32min\u001b[0m \u001b[0mrange\u001b[0m\u001b[1;33m(\u001b[0m\u001b[1;36m1\u001b[0m\u001b[1;33m,\u001b[0m \u001b[0mnlags\u001b[0m \u001b[1;33m+\u001b[0m \u001b[1;36m1\u001b[0m\u001b[1;33m)\u001b[0m\u001b[1;33m:\u001b[0m\u001b[1;33m\u001b[0m\u001b[0m\n\u001b[1;32m--> 520\u001b[1;33m         \u001b[0mpacf\u001b[0m\u001b[1;33m.\u001b[0m\u001b[0mappend\u001b[0m\u001b[1;33m(\u001b[0m\u001b[0myule_walker\u001b[0m\u001b[1;33m(\u001b[0m\u001b[0mx\u001b[0m\u001b[1;33m,\u001b[0m \u001b[0mk\u001b[0m\u001b[1;33m,\u001b[0m \u001b[0mmethod\u001b[0m\u001b[1;33m=\u001b[0m\u001b[0mmethod\u001b[0m\u001b[1;33m)\u001b[0m\u001b[1;33m[\u001b[0m\u001b[1;36m0\u001b[0m\u001b[1;33m]\u001b[0m\u001b[1;33m[\u001b[0m\u001b[1;33m-\u001b[0m\u001b[1;36m1\u001b[0m\u001b[1;33m]\u001b[0m\u001b[1;33m)\u001b[0m\u001b[1;33m\u001b[0m\u001b[0m\n\u001b[0m\u001b[0;32m    521\u001b[0m     \u001b[1;32mreturn\u001b[0m \u001b[0mnp\u001b[0m\u001b[1;33m.\u001b[0m\u001b[0marray\u001b[0m\u001b[1;33m(\u001b[0m\u001b[0mpacf\u001b[0m\u001b[1;33m)\u001b[0m\u001b[1;33m\u001b[0m\u001b[0m\n\u001b[0;32m    522\u001b[0m \u001b[1;33m\u001b[0m\u001b[0m\n",
      "\u001b[1;32mc:\\users\\user\\appdata\\local\\programs\\python\\python36\\lib\\site-packages\\statsmodels\\regression\\linear_model.py\u001b[0m in \u001b[0;36myule_walker\u001b[1;34m(X, order, method, df, inv, demean)\u001b[0m\n\u001b[0;32m   1273\u001b[0m     \u001b[0mr\u001b[0m\u001b[1;33m[\u001b[0m\u001b[1;36m0\u001b[0m\u001b[1;33m]\u001b[0m \u001b[1;33m=\u001b[0m \u001b[1;33m(\u001b[0m\u001b[0mX\u001b[0m\u001b[1;33m**\u001b[0m\u001b[1;36m2\u001b[0m\u001b[1;33m)\u001b[0m\u001b[1;33m.\u001b[0m\u001b[0msum\u001b[0m\u001b[1;33m(\u001b[0m\u001b[1;33m)\u001b[0m \u001b[1;33m/\u001b[0m \u001b[0mdenom\u001b[0m\u001b[1;33m(\u001b[0m\u001b[1;36m0\u001b[0m\u001b[1;33m)\u001b[0m\u001b[1;33m\u001b[0m\u001b[0m\n\u001b[0;32m   1274\u001b[0m     \u001b[1;32mfor\u001b[0m \u001b[0mk\u001b[0m \u001b[1;32min\u001b[0m \u001b[0mrange\u001b[0m\u001b[1;33m(\u001b[0m\u001b[1;36m1\u001b[0m\u001b[1;33m,\u001b[0m \u001b[0morder\u001b[0m\u001b[1;33m+\u001b[0m\u001b[1;36m1\u001b[0m\u001b[1;33m)\u001b[0m\u001b[1;33m:\u001b[0m\u001b[1;33m\u001b[0m\u001b[0m\n\u001b[1;32m-> 1275\u001b[1;33m         \u001b[0mr\u001b[0m\u001b[1;33m[\u001b[0m\u001b[0mk\u001b[0m\u001b[1;33m]\u001b[0m \u001b[1;33m=\u001b[0m \u001b[1;33m(\u001b[0m\u001b[0mX\u001b[0m\u001b[1;33m[\u001b[0m\u001b[1;36m0\u001b[0m\u001b[1;33m:\u001b[0m\u001b[1;33m-\u001b[0m\u001b[0mk\u001b[0m\u001b[1;33m]\u001b[0m \u001b[1;33m*\u001b[0m \u001b[0mX\u001b[0m\u001b[1;33m[\u001b[0m\u001b[0mk\u001b[0m\u001b[1;33m:\u001b[0m\u001b[1;33m]\u001b[0m\u001b[1;33m)\u001b[0m\u001b[1;33m.\u001b[0m\u001b[0msum\u001b[0m\u001b[1;33m(\u001b[0m\u001b[1;33m)\u001b[0m \u001b[1;33m/\u001b[0m \u001b[0mdenom\u001b[0m\u001b[1;33m(\u001b[0m\u001b[0mk\u001b[0m\u001b[1;33m)\u001b[0m\u001b[1;33m\u001b[0m\u001b[0m\n\u001b[0m\u001b[0;32m   1276\u001b[0m     \u001b[0mR\u001b[0m \u001b[1;33m=\u001b[0m \u001b[0mtoeplitz\u001b[0m\u001b[1;33m(\u001b[0m\u001b[0mr\u001b[0m\u001b[1;33m[\u001b[0m\u001b[1;33m:\u001b[0m\u001b[1;33m-\u001b[0m\u001b[1;36m1\u001b[0m\u001b[1;33m]\u001b[0m\u001b[1;33m)\u001b[0m\u001b[1;33m\u001b[0m\u001b[0m\n\u001b[0;32m   1277\u001b[0m \u001b[1;33m\u001b[0m\u001b[0m\n",
      "\u001b[1;32mc:\\users\\user\\appdata\\local\\programs\\python\\python36\\lib\\site-packages\\numpy\\core\\_methods.py\u001b[0m in \u001b[0;36m_sum\u001b[1;34m(a, axis, dtype, out, keepdims)\u001b[0m\n\u001b[0;32m     30\u001b[0m \u001b[1;33m\u001b[0m\u001b[0m\n\u001b[0;32m     31\u001b[0m \u001b[1;32mdef\u001b[0m \u001b[0m_sum\u001b[0m\u001b[1;33m(\u001b[0m\u001b[0ma\u001b[0m\u001b[1;33m,\u001b[0m \u001b[0maxis\u001b[0m\u001b[1;33m=\u001b[0m\u001b[1;32mNone\u001b[0m\u001b[1;33m,\u001b[0m \u001b[0mdtype\u001b[0m\u001b[1;33m=\u001b[0m\u001b[1;32mNone\u001b[0m\u001b[1;33m,\u001b[0m \u001b[0mout\u001b[0m\u001b[1;33m=\u001b[0m\u001b[1;32mNone\u001b[0m\u001b[1;33m,\u001b[0m \u001b[0mkeepdims\u001b[0m\u001b[1;33m=\u001b[0m\u001b[1;32mFalse\u001b[0m\u001b[1;33m)\u001b[0m\u001b[1;33m:\u001b[0m\u001b[1;33m\u001b[0m\u001b[0m\n\u001b[1;32m---> 32\u001b[1;33m     \u001b[1;32mreturn\u001b[0m \u001b[0mumr_sum\u001b[0m\u001b[1;33m(\u001b[0m\u001b[0ma\u001b[0m\u001b[1;33m,\u001b[0m \u001b[0maxis\u001b[0m\u001b[1;33m,\u001b[0m \u001b[0mdtype\u001b[0m\u001b[1;33m,\u001b[0m \u001b[0mout\u001b[0m\u001b[1;33m,\u001b[0m \u001b[0mkeepdims\u001b[0m\u001b[1;33m)\u001b[0m\u001b[1;33m\u001b[0m\u001b[0m\n\u001b[0m\u001b[0;32m     33\u001b[0m \u001b[1;33m\u001b[0m\u001b[0m\n\u001b[0;32m     34\u001b[0m \u001b[1;32mdef\u001b[0m \u001b[0m_prod\u001b[0m\u001b[1;33m(\u001b[0m\u001b[0ma\u001b[0m\u001b[1;33m,\u001b[0m \u001b[0maxis\u001b[0m\u001b[1;33m=\u001b[0m\u001b[1;32mNone\u001b[0m\u001b[1;33m,\u001b[0m \u001b[0mdtype\u001b[0m\u001b[1;33m=\u001b[0m\u001b[1;32mNone\u001b[0m\u001b[1;33m,\u001b[0m \u001b[0mout\u001b[0m\u001b[1;33m=\u001b[0m\u001b[1;32mNone\u001b[0m\u001b[1;33m,\u001b[0m \u001b[0mkeepdims\u001b[0m\u001b[1;33m=\u001b[0m\u001b[1;32mFalse\u001b[0m\u001b[1;33m)\u001b[0m\u001b[1;33m:\u001b[0m\u001b[1;33m\u001b[0m\u001b[0m\n",
      "\u001b[1;31mKeyboardInterrupt\u001b[0m: "
     ]
    },
    {
     "data": {
      "image/png": "[encoded data removed]",
      "text/plain": [
       "<Figure size 1080x288 with 2 Axes>"
      ]
     },
     "metadata": {},
     "output_type": "display_data"
    }
   ],
   "source": [
    "# Graph data\n",
    "fig, axes = plt.subplots(1, 2, figsize=(15,4))\n",
    "fig = sm.graphics.tsa.plot_pacf(akamai.iloc[1:]['dropped'], lags=10000, ax=axes[1])\n",
    "fig = sm.graphics.tsa.plot_acf(akamai.iloc[1:]['dropped'], lags=60, ax=axes[1])"
   ]
  },
  {
   "cell_type": "code",
   "execution_count": 15,
   "metadata": {},
   "outputs": [
    {
     "name": "stderr",
     "output_type": "stream",
     "text": [
      "c:\\users\\user\\appdata\\local\\programs\\python\\python36\\lib\\site-packages\\statsmodels\\tsa\\base\\tsa_model.py:171: ValueWarning: No frequency information was provided, so inferred frequency T will be used.\n",
      "  % freq, ValueWarning)\n"
     ]
    },
    {
     "name": "stdout",
     "output_type": "stream",
     "text": [
      "                           Statespace Model Results                           \n",
      "==============================================================================\n",
      "Dep. Variable:                dropped   No. Observations:                44640\n",
      "Model:               SARIMAX(1, 0, 1)   Log Likelihood             -515794.668\n",
      "Date:                Sun, 25 Nov 2018   AIC                        1031597.337\n",
      "Time:                        10:26:03   BIC                        1031632.162\n",
      "Sample:                    07-01-2016   HQIC                       1031608.303\n",
      "                         - 08-01-2016                                         \n",
      "Covariance Type:                  opg                                         \n",
      "==============================================================================\n",
      "                 coef    std err          z      P>|z|      [0.025      0.975]\n",
      "------------------------------------------------------------------------------\n",
      "intercept   1.483e+04    284.888     52.068      0.000    1.43e+04    1.54e+04\n",
      "ar.L1          0.9143      0.001   1055.388      0.000       0.913       0.916\n",
      "ma.L1          0.1225      0.001     88.362      0.000       0.120       0.125\n",
      "sigma2      6.362e+08      0.075    8.5e+09      0.000    6.36e+08    6.36e+08\n",
      "===================================================================================\n",
      "Ljung-Box (Q):                     4042.54   Jarque-Bera (JB):           9779583.38\n",
      "Prob(Q):                              0.00   Prob(JB):                         0.00\n",
      "Heteroskedasticity (H):               0.33   Skew:                             0.70\n",
      "Prob(H) (two-sided):                  0.00   Kurtosis:                        75.50\n",
      "===================================================================================\n",
      "\n",
      "Warnings:\n",
      "[1] Covariance matrix calculated using the outer product of gradients (complex-step).\n",
      "[2] Covariance matrix is singular or near-singular, with condition number 8.8e+29. Standard errors may be unstable.\n"
     ]
    }
   ],
   "source": [
    "import statsmodels.api as sm\n",
    "\n",
    "# Fit the model\n",
    "mod = sm.tsa.statespace.SARIMAX(akamai['dropped'], trend='c', order=(1,0,1))\n",
    "res = mod.fit(disp=False)\n",
    "print(res.summary())"
   ]
  },
  {
   "cell_type": "code",
   "execution_count": 16,
   "metadata": {},
   "outputs": [
    {
     "name": "stderr",
     "output_type": "stream",
     "text": [
      "c:\\users\\user\\appdata\\local\\programs\\python\\python36\\lib\\site-packages\\statsmodels\\tsa\\base\\tsa_model.py:171: ValueWarning: No frequency information was provided, so inferred frequency T will be used.\n",
      "  % freq, ValueWarning)\n"
     ]
    },
    {
     "name": "stdout",
     "output_type": "stream",
     "text": [
      "                             Statespace Model Results                            \n",
      "=================================================================================\n",
      "Dep. Variable:                   dropped   No. Observations:                44640\n",
      "Model:             SARIMAX(1, 1, (1, 4))   Log Likelihood             -515689.022\n",
      "Date:                   Sun, 25 Nov 2018   AIC                        1031388.045\n",
      "Time:                           10:34:03   BIC                        1031431.576\n",
      "Sample:                       07-01-2016   HQIC                       1031401.753\n",
      "                            - 08-01-2016                                         \n",
      "Covariance Type:                     opg                                         \n",
      "==============================================================================\n",
      "                 coef    std err          z      P>|z|      [0.025      0.975]\n",
      "------------------------------------------------------------------------------\n",
      "intercept      0.9753      4.190      0.233      0.816      -7.238       9.188\n",
      "ar.L1          0.8118      0.002    370.686      0.000       0.807       0.816\n",
      "ma.L1         -0.8902      0.002   -402.469      0.000      -0.895      -0.886\n",
      "ma.L4         -0.0795      0.002    -46.305      0.000      -0.083      -0.076\n",
      "sigma2      6.536e+08    7.8e-06   8.38e+13      0.000    6.54e+08    6.54e+08\n",
      "===================================================================================\n",
      "Ljung-Box (Q):                     4590.61   Jarque-Bera (JB):           9005916.23\n",
      "Prob(Q):                              0.00   Prob(JB):                         0.00\n",
      "Heteroskedasticity (H):               0.32   Skew:                             0.52\n",
      "Prob(H) (two-sided):                  0.00   Kurtosis:                        72.58\n",
      "===================================================================================\n",
      "\n",
      "Warnings:\n",
      "[1] Covariance matrix calculated using the outer product of gradients (complex-step).\n",
      "[2] Covariance matrix is singular or near-singular, with condition number 2.19e+27. Standard errors may be unstable.\n"
     ]
    }
   ],
   "source": [
    "# However, we want to introduce seasonality.\n",
    "# Namely, because the data is quarterly, we may want to fit: y(t)=c+phi(1)y(t-1)+theta(1)e(t-1)+theta(4)e(t-4)+e(t)\n",
    "# We can do that.\n",
    "\n",
    "ar = 1          # this is the maximum degree specification\n",
    "ma = (1,0,0,1)  # this is the lag polynomial specification\n",
    "mod = sm.tsa.statespace.SARIMAX(akamai['dropped'], trend='c', order=(ar,1,ma))\n",
    "res = mod.fit(disp=False)\n",
    "print(res.summary())"
   ]
  },
  {
   "cell_type": "code",
   "execution_count": 17,
   "metadata": {},
   "outputs": [
    {
     "name": "stderr",
     "output_type": "stream",
     "text": [
      "c:\\users\\user\\appdata\\local\\programs\\python\\python36\\lib\\site-packages\\statsmodels\\tsa\\base\\tsa_model.py:171: ValueWarning: No frequency information was provided, so inferred frequency T will be used.\n",
      "  % freq, ValueWarning)\n"
     ]
    },
    {
     "name": "stdout",
     "output_type": "stream",
     "text": [
      "                           Statespace Model Results                           \n",
      "==============================================================================\n",
      "Dep. Variable:                dropped   No. Observations:                44640\n",
      "Model:               SARIMAX(1, 1, 1)   Log Likelihood             -516729.688\n",
      "Date:                Sun, 25 Nov 2018   AIC                        1033467.376\n",
      "Time:                        10:34:17   BIC                        1033502.202\n",
      "Sample:                    07-01-2016   HQIC                       1033478.343\n",
      "                         - 08-01-2016                                         \n",
      "Covariance Type:                  opg                                         \n",
      "==============================================================================\n",
      "                 coef    std err          z      P>|z|      [0.025      0.975]\n",
      "------------------------------------------------------------------------------\n",
      "intercept      0.7276    199.439      0.004      0.997    -390.165     391.620\n",
      "ar.L1         -0.5311      0.012    -42.839      0.000      -0.555      -0.507\n",
      "ma.L1          0.6156      0.012     51.323      0.000       0.592       0.639\n",
      "sigma2      6.664e+08      0.001   7.42e+11      0.000    6.66e+08    6.66e+08\n",
      "===================================================================================\n",
      "Ljung-Box (Q):                     4829.62   Jarque-Bera (JB):          10910441.23\n",
      "Prob(Q):                              0.00   Prob(JB):                         0.00\n",
      "Heteroskedasticity (H):               0.33   Skew:                            -0.32\n",
      "Prob(H) (two-sided):                  0.00   Kurtosis:                        79.59\n",
      "===================================================================================\n",
      "\n",
      "Warnings:\n",
      "[1] Covariance matrix calculated using the outer product of gradients (complex-step).\n",
      "[2] Covariance matrix is singular or near-singular, with condition number 3.63e+26. Standard errors may be unstable.\n"
     ]
    }
   ],
   "source": [
    "# Fit an ARIMA(1,1,1) model\n",
    "mod = sm.tsa.statespace.SARIMAX(akamai['dropped'], trend='c', order=(1,1,1))\n",
    "res = mod.fit(disp=False)\n",
    "print(res.summary())"
   ]
  },
  {
   "cell_type": "code",
   "execution_count": 23,
   "metadata": {},
   "outputs": [
    {
     "name": "stderr",
     "output_type": "stream",
     "text": [
      "c:\\users\\user\\appdata\\local\\programs\\python\\python36\\lib\\site-packages\\statsmodels\\tsa\\base\\tsa_model.py:171: ValueWarning: No frequency information was provided, so inferred frequency T will be used.\n",
      "  % freq, ValueWarning)\n",
      "c:\\users\\user\\appdata\\local\\programs\\python\\python36\\lib\\site-packages\\statsmodels\\base\\model.py:508: ConvergenceWarning: Maximum Likelihood optimization failed to converge. Check mle_retvals\n",
      "  \"Check mle_retvals\", ConvergenceWarning)\n"
     ]
    },
    {
     "name": "stdout",
     "output_type": "stream",
     "text": [
      "                                 Statespace Model Results                                 \n",
      "==========================================================================================\n",
      "Dep. Variable:                            dropped   No. Observations:                44640\n",
      "Model:             SARIMAX(2, 0, 3)x(1, 0, 1, 12)   Log Likelihood             -515627.510\n",
      "Date:                            Sun, 25 Nov 2018   AIC                        1031271.021\n",
      "Time:                                    10:47:57   BIC                        1031340.669\n",
      "Sample:                                07-01-2016   HQIC                       1031292.953\n",
      "                                     - 08-01-2016                                         \n",
      "Covariance Type:                              opg                                         \n",
      "==============================================================================\n",
      "                 coef    std err          z      P>|z|      [0.025      0.975]\n",
      "------------------------------------------------------------------------------\n",
      "ar.L1          1.7319      0.004    478.027      0.000       1.725       1.739\n",
      "ar.L2         -0.7323      0.004   -202.442      0.000      -0.739      -0.725\n",
      "ma.L1         -0.7050      0.004   -184.941      0.000      -0.712      -0.697\n",
      "ma.L2         -0.1399      0.002    -70.939      0.000      -0.144      -0.136\n",
      "ma.L3         -0.0570      0.003    -22.420      0.000      -0.062      -0.052\n",
      "ar.S.L12       0.7403      0.008     94.010      0.000       0.725       0.756\n",
      "ma.S.L12      -0.7490      0.008    -95.564      0.000      -0.764      -0.734\n",
      "sigma2      6.522e+08   2.33e-11    2.8e+19      0.000    6.52e+08    6.52e+08\n",
      "===================================================================================\n",
      "Ljung-Box (Q):                     3699.42   Jarque-Bera (JB):           9055180.00\n",
      "Prob(Q):                              0.00   Prob(JB):                         0.00\n",
      "Heteroskedasticity (H):               0.32   Skew:                             0.34\n",
      "Prob(H) (two-sided):                  0.00   Kurtosis:                        72.78\n",
      "===================================================================================\n",
      "\n",
      "Warnings:\n",
      "[1] Covariance matrix calculated using the outer product of gradients (complex-step).\n",
      "[2] Covariance matrix is singular or near-singular, with condition number 2.28e+33. Standard errors may be unstable.\n"
     ]
    }
   ],
   "source": [
    "# Fit the model\n",
    "mod = sm.tsa.statespace.SARIMAX(akamai['dropped'], order=(2,0,3), seasonal_order=(1,0,1,12), simple_differencing=True, enforce_stationarity=False, enforce_invertibility=False)\n",
    "res = mod.fit(disp=False)\n",
    "print(res.summary())"
   ]
  },
  {
   "cell_type": "code",
   "execution_count": 35,
   "metadata": {},
   "outputs": [],
   "source": [
    "ss_res = sum(res.resid**2)\n",
    "ss_total = sum((akamai['dropped']- akamai['dropped'].mean())**2)\n",
    "\n",
    "K = 7\n",
    "n = 4460\n",
    "\n",
    "r_squared = 1 - (ss_res/ss_total)\n",
    "adj_r_squared = 1 - ((ss_res/(n-K))/(ss_total/(n-1)))"
   ]
  },
  {
   "cell_type": "code",
   "execution_count": 36,
   "metadata": {},
   "outputs": [
    {
     "data": {
      "text/plain": [
       "0.8539480626969801"
      ]
     },
     "execution_count": 36,
     "metadata": {},
     "output_type": "execute_result"
    }
   ],
   "source": [
    "r_squared"
   ]
  },
  {
   "cell_type": "code",
   "execution_count": 38,
   "metadata": {},
   "outputs": [
    {
     "data": {
      "text/plain": [
       "0.8537512714048584"
      ]
     },
     "execution_count": 38,
     "metadata": {},
     "output_type": "execute_result"
    }
   ],
   "source": [
    "adj_r_squared"
   ]
  }
 ],
 "metadata": {
  "kernelspec": {
   "display_name": "Python 3",
   "language": "python",
   "name": "python3"
  },
  "language_info": {
   "codemirror_mode": {
    "name": "ipython",
    "version": 3
   },
   "file_extension": ".py",
   "mimetype": "text/x-python",
   "name": "python",
   "nbconvert_exporter": "python",
   "pygments_lexer": "ipython3",
   "version": "3.6.4"
  }
 },
 "nbformat": 4,
 "nbformat_minor": 2
}
